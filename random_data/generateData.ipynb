{
 "cells": [
  {
   "cell_type": "markdown",
   "metadata": {},
   "source": [
    "# Generazione dati progetto di laboratorio"
   ]
  },
  {
   "cell_type": "markdown",
   "metadata": {},
   "source": [
    "## Importo le librerie"
   ]
  },
  {
   "cell_type": "code",
   "execution_count": 1,
   "metadata": {},
   "outputs": [],
   "source": [
    "import pandas as pd\n",
    "from faker import Faker\n",
    "from collections import defaultdict\n",
    "from sqlalchemy import create_engine, text, MetaData\n",
    "import random \n",
    "import datetime\n",
    "from pprint import pprint\n",
    "import random\n",
    "import numpy as np\n",
    "fake = Faker('it-IT')"
   ]
  },
  {
   "cell_type": "markdown",
   "metadata": {},
   "source": [
    "### Definisco le costanti e i file da dove importare i dati:"
   ]
  },
  {
   "cell_type": "code",
   "execution_count": 2,
   "metadata": {},
   "outputs": [],
   "source": [
    "NUM_FORNITORI = 1000\n",
    "NUM_DIPENDENTI = 10000\n",
    "NUM_MATRIMONI = 100\n",
    "NUM_PROGETTI = 5000\n",
    "NUM_COMPETENZE_DIP = 10\n",
    "NUM_DIP_PROGETTO = 5\n",
    "\n",
    "FILE_DIPARTIMENTO = \"MOCK_DEPARTMENT.txt\"\n",
    "FILE_QUALIFICHE = \"MOCK_QUALIFY.txt\"\n",
    "FILE_SKILLS = \"MOCK_SKILLS.txt\"\n",
    "FILE_LAUREE = \"MOCK_DEGREES.txt\"\n",
    "FILE_DOTTORATI = \"MOCK_PHDS.txt\""
   ]
  },
  {
   "cell_type": "markdown",
   "metadata": {},
   "source": [
    "## Relazione Fornitore"
   ]
  },
  {
   "cell_type": "code",
   "execution_count": 3,
   "metadata": {},
   "outputs": [
    {
     "name": "stdout",
     "output_type": "stream",
     "text": [
      "Created Fornitore\n"
     ]
    }
   ],
   "source": [
    "\n",
    "\n",
    "#FORNITORE\n",
    "fornitore = defaultdict(list)\n",
    "for _ in range(NUM_FORNITORI):\n",
    "    cap = fake.postcode()\n",
    "    via = fake.street_name()\n",
    "    civico = fake.building_number()\n",
    "    fornitore[\"nome\"].append(fake.company())\n",
    "    fornitore[\"via\"].append(via)\n",
    "    fornitore[\"cap\"].append(cap)\n",
    "    fornitore[\"civico\"].append(civico)\n",
    "\n",
    "df_fornitore = pd.DataFrame(fornitore)\n",
    "df_fornitore.drop_duplicates(inplace=True, subset=\"nome\")\n",
    "\n",
    "print(\"Created Fornitore\")\n"
   ]
  },
  {
   "cell_type": "markdown",
   "metadata": {},
   "source": [
    "## Relazione Dipartimento"
   ]
  },
  {
   "cell_type": "code",
   "execution_count": 4,
   "metadata": {},
   "outputs": [
    {
     "name": "stdout",
     "output_type": "stream",
     "text": [
      "Created Dipartimento\n"
     ]
    }
   ],
   "source": [
    "#DIPARTIMENTO\n",
    "\n",
    "dipartimento = defaultdict(list)\n",
    "\n",
    "f = open(FILE_DIPARTIMENTO)\n",
    "lines = f.read().splitlines()\n",
    "f.close()\n",
    "\n",
    "dipartimento[\"recapito\"] = (fake.random_sample(elements = range(100000,999999), length = len(lines)))\n",
    "\n",
    "for i in range(len(lines)):\n",
    "    dipartimento[\"recapito\"][i] = int(\"1432\" + str(dipartimento[\"recapito\"][i]))\n",
    "\n",
    "for line in lines:\n",
    "    dipartimento[\"nome\"].append(line)\n",
    "    dipartimento[\"email\"].append(line.replace(\" \",\"\").lower() + \"@company.com\")\n",
    "    dipartimento[\"ultimo_acquisto\"].append(random.choice(fornitore[\"nome\"]))\n",
    "    dipartimento[\"data_ultimo_acquisto\"].append(fake.date_between(start_date = datetime.date(2021,1,1)))\n",
    "\n",
    "#Numero afferenti viene aggiunto dopo\n",
    "\n",
    "print(\"Created Dipartimento\")\n",
    "\n",
    "df_dipartimento = pd.DataFrame(dipartimento)\n",
    "\n",
    "#df_dipartimento.to_csv(\"dipartimento.csv\")\n"
   ]
  },
  {
   "cell_type": "code",
   "execution_count": 5,
   "metadata": {},
   "outputs": [
    {
     "data": {
      "text/html": [
       "<div>\n",
       "<style scoped>\n",
       "    .dataframe tbody tr th:only-of-type {\n",
       "        vertical-align: middle;\n",
       "    }\n",
       "\n",
       "    .dataframe tbody tr th {\n",
       "        vertical-align: top;\n",
       "    }\n",
       "\n",
       "    .dataframe thead th {\n",
       "        text-align: right;\n",
       "    }\n",
       "</style>\n",
       "<table border=\"1\" class=\"dataframe\">\n",
       "  <thead>\n",
       "    <tr style=\"text-align: right;\">\n",
       "      <th></th>\n",
       "      <th>recapito</th>\n",
       "      <th>nome</th>\n",
       "      <th>email</th>\n",
       "      <th>ultimo_acquisto</th>\n",
       "      <th>data_ultimo_acquisto</th>\n",
       "    </tr>\n",
       "  </thead>\n",
       "  <tbody>\n",
       "    <tr>\n",
       "      <th>0</th>\n",
       "      <td>1432287789</td>\n",
       "      <td>Administration</td>\n",
       "      <td>administration@company.com</td>\n",
       "      <td>Toselli, Verga e Morellato SPA</td>\n",
       "      <td>2021-04-10</td>\n",
       "    </tr>\n",
       "    <tr>\n",
       "      <th>1</th>\n",
       "      <td>1432182139</td>\n",
       "      <td>Artificial Intelligence</td>\n",
       "      <td>artificialintelligence@company.com</td>\n",
       "      <td>Cibin-Lettiere Group</td>\n",
       "      <td>2022-04-02</td>\n",
       "    </tr>\n",
       "    <tr>\n",
       "      <th>2</th>\n",
       "      <td>1432628848</td>\n",
       "      <td>Branding and Advertising</td>\n",
       "      <td>brandingandadvertising@company.com</td>\n",
       "      <td>Zola s.r.l.</td>\n",
       "      <td>2021-08-26</td>\n",
       "    </tr>\n",
       "    <tr>\n",
       "      <th>3</th>\n",
       "      <td>1432143559</td>\n",
       "      <td>Brand Management</td>\n",
       "      <td>brandmanagement@company.com</td>\n",
       "      <td>Bazzi, Blasi e Morellato SPA</td>\n",
       "      <td>2022-03-23</td>\n",
       "    </tr>\n",
       "    <tr>\n",
       "      <th>4</th>\n",
       "      <td>1432844572</td>\n",
       "      <td>Business Analytics</td>\n",
       "      <td>businessanalytics@company.com</td>\n",
       "      <td>Piacentini-Depero s.r.l.</td>\n",
       "      <td>2021-11-30</td>\n",
       "    </tr>\n",
       "    <tr>\n",
       "      <th>...</th>\n",
       "      <td>...</td>\n",
       "      <td>...</td>\n",
       "      <td>...</td>\n",
       "      <td>...</td>\n",
       "      <td>...</td>\n",
       "    </tr>\n",
       "    <tr>\n",
       "      <th>93</th>\n",
       "      <td>1432589284</td>\n",
       "      <td>User Experience</td>\n",
       "      <td>userexperience@company.com</td>\n",
       "      <td>Ovadia, Tomaselli e Amaldi e figli</td>\n",
       "      <td>2021-11-06</td>\n",
       "    </tr>\n",
       "    <tr>\n",
       "      <th>94</th>\n",
       "      <td>1432821738</td>\n",
       "      <td>Vendor Management</td>\n",
       "      <td>vendormanagement@company.com</td>\n",
       "      <td>Alfonsi, Carocci e Tagliafierro e figli</td>\n",
       "      <td>2022-10-01</td>\n",
       "    </tr>\n",
       "    <tr>\n",
       "      <th>95</th>\n",
       "      <td>1432105637</td>\n",
       "      <td>Warehouse and Distribution</td>\n",
       "      <td>warehouseanddistribution@company.com</td>\n",
       "      <td>Infantino Group</td>\n",
       "      <td>2021-08-16</td>\n",
       "    </tr>\n",
       "    <tr>\n",
       "      <th>96</th>\n",
       "      <td>1432119113</td>\n",
       "      <td>Web Development</td>\n",
       "      <td>webdevelopment@company.com</td>\n",
       "      <td>Casagrande SPA</td>\n",
       "      <td>2022-04-01</td>\n",
       "    </tr>\n",
       "    <tr>\n",
       "      <th>97</th>\n",
       "      <td>1432349220</td>\n",
       "      <td>Workplace Culture</td>\n",
       "      <td>workplaceculture@company.com</td>\n",
       "      <td>Torlonia-Petrucci Group</td>\n",
       "      <td>2022-05-04</td>\n",
       "    </tr>\n",
       "  </tbody>\n",
       "</table>\n",
       "<p>98 rows × 5 columns</p>\n",
       "</div>"
      ],
      "text/plain": [
       "      recapito                        nome  \\\n",
       "0   1432287789              Administration   \n",
       "1   1432182139     Artificial Intelligence   \n",
       "2   1432628848    Branding and Advertising   \n",
       "3   1432143559            Brand Management   \n",
       "4   1432844572          Business Analytics   \n",
       "..         ...                         ...   \n",
       "93  1432589284             User Experience   \n",
       "94  1432821738           Vendor Management   \n",
       "95  1432105637  Warehouse and Distribution   \n",
       "96  1432119113             Web Development   \n",
       "97  1432349220           Workplace Culture   \n",
       "\n",
       "                                   email  \\\n",
       "0             administration@company.com   \n",
       "1     artificialintelligence@company.com   \n",
       "2     brandingandadvertising@company.com   \n",
       "3            brandmanagement@company.com   \n",
       "4          businessanalytics@company.com   \n",
       "..                                   ...   \n",
       "93            userexperience@company.com   \n",
       "94          vendormanagement@company.com   \n",
       "95  warehouseanddistribution@company.com   \n",
       "96            webdevelopment@company.com   \n",
       "97          workplaceculture@company.com   \n",
       "\n",
       "                            ultimo_acquisto data_ultimo_acquisto  \n",
       "0            Toselli, Verga e Morellato SPA           2021-04-10  \n",
       "1                      Cibin-Lettiere Group           2022-04-02  \n",
       "2                               Zola s.r.l.           2021-08-26  \n",
       "3              Bazzi, Blasi e Morellato SPA           2022-03-23  \n",
       "4                  Piacentini-Depero s.r.l.           2021-11-30  \n",
       "..                                      ...                  ...  \n",
       "93       Ovadia, Tomaselli e Amaldi e figli           2021-11-06  \n",
       "94  Alfonsi, Carocci e Tagliafierro e figli           2022-10-01  \n",
       "95                          Infantino Group           2021-08-16  \n",
       "96                           Casagrande SPA           2022-04-01  \n",
       "97                  Torlonia-Petrucci Group           2022-05-04  \n",
       "\n",
       "[98 rows x 5 columns]"
      ]
     },
     "execution_count": 5,
     "metadata": {},
     "output_type": "execute_result"
    }
   ],
   "source": [
    "df_dipartimento"
   ]
  },
  {
   "cell_type": "markdown",
   "metadata": {},
   "source": [
    "## Relazione Fornisce"
   ]
  },
  {
   "cell_type": "code",
   "execution_count": 6,
   "metadata": {},
   "outputs": [
    {
     "name": "stdout",
     "output_type": "stream",
     "text": [
      "Created Fornisce\n"
     ]
    }
   ],
   "source": [
    "#FORNISCE\n",
    "\n",
    "fornisce = defaultdict(list)\n",
    "\n",
    "#Ogni dipartimento ha la probabilità del 90% di essere rifornito dal suo ultimo acquisto\n",
    "for i in range(len(dipartimento[\"nome\"])):\n",
    "    p = random.randint(0,9)\n",
    "    if p < 9:\n",
    "        fornisce[\"fornitore\"].append(dipartimento[\"ultimo_acquisto\"][i])\n",
    "        fornisce[\"dipartimento\"].append(dipartimento[\"nome\"][i])\n",
    "\n",
    "\n",
    "# Selezioniamo 10 fornitori fortunati che riforniranno la maggior parte dei dipartimenti\n",
    "fornitori_fortunati = fake.random_sample(elements=range(0, len(fornitore[\"nome\"])), length=10)\n",
    "\n",
    "#2/12 (arbitrario) aggiungiamo un elemento in fornisce con un fornitore non fortunato\n",
    "fornitori_fortunati.append(-1)\n",
    "fornitori_fortunati.append(-1)\n",
    "\n",
    "\n",
    "for _ in range(400):\n",
    "    #Scegliamo chi sarà il fornitore seguendo una distribuzione normale\n",
    "    fornitore_scelto = int(abs(np.random.normal(0, 10))%12)\n",
    "    if fornitori_fortunati[fornitore_scelto] == -1:  \n",
    "        fornisce[\"fornitore\"].append(fake.random_element(elements=fornitore[\"nome\"]))\n",
    "    else:\n",
    "        fornisce[\"fornitore\"].append(fornitore[\"nome\"][fornitori_fortunati[fornitore_scelto]])\n",
    "    \n",
    "    fornisce[\"dipartimento\"].append(fake.random_element(dipartimento[\"nome\"]))\n",
    "\n",
    "print(\"Created Fornisce\")\n",
    "\n",
    "df_fornisce = pd.DataFrame(fornisce)\n",
    "df_fornisce.drop_duplicates(inplace=True)\n",
    "\n"
   ]
  },
  {
   "cell_type": "markdown",
   "metadata": {},
   "source": [
    "## Relazione Dipendente"
   ]
  },
  {
   "cell_type": "code",
   "execution_count": 7,
   "metadata": {},
   "outputs": [
    {
     "name": "stdout",
     "output_type": "stream",
     "text": [
      "Created Dipendente\n"
     ]
    }
   ],
   "source": [
    "#DIPENDENTE\n",
    "\n",
    "#Scegliamo chi saranno i dipartimenti fortunati ad avere la maggior parte dei dipendenti\n",
    "dipartimenti_fortunati = fake.random_sample(elements=range(0, len(dipartimento[\"nome\"])), length=10)\n",
    "\n",
    "#2/12 (arbitrario) aggiungiamo un dipendente che afferisce ad un dipartimento non fortunato\n",
    "\n",
    "dipartimenti_fortunati.append(-1)\n",
    "dipartimenti_fortunati.append(-1)\n",
    "\n",
    "dipendente = defaultdict(list)\n",
    "\n",
    "dipendente[\"matricola\"] = fake.random_sample(elements = range(1, 1000000), length = NUM_DIPENDENTI)\n",
    "\n",
    "f = open(FILE_QUALIFICHE)\n",
    "qualifies = f.read().splitlines()\n",
    "f.close()\n",
    "\n",
    "f = open(FILE_LAUREE)\n",
    "degrees = f.read().splitlines()\n",
    "f.close()\n",
    "\n",
    "f = open(FILE_DOTTORATI)\n",
    "phds = f.read().splitlines()\n",
    "f.close()\n",
    "\n",
    "\n",
    "matricole_laurea = []\n",
    "matricole_dottorato = []\n",
    "\n",
    "#Vettore con l'età dei dipendenti, NON viene aggiunta alla base di dati, serve ad usi successivi dello script\n",
    "eta_dipendenti = []\n",
    "\n",
    "#Funzione che calcola l'età data una data di nascita\n",
    "def calculateAge(birthDate):\n",
    "    today = datetime.date.today()\n",
    "    age = today.year - birthDate.year - ((today.month, today.day) < (birthDate.month, birthDate.day))\n",
    " \n",
    "    return age\n",
    "\n",
    "for i in range(NUM_DIPENDENTI):\n",
    "    dipendente[\"nome\"].append(fake.first_name())\n",
    "    dipendente[\"cognome\"].append(fake.last_name())\n",
    "    dipendente[\"qualifica\"].append(fake.random_element(elements=qualifies))\n",
    "\n",
    "    dipartimento_scelto = int(abs(np.random.normal(0, 10))%12)\n",
    "    if dipartimenti_fortunati[dipartimento_scelto] == -1:  \n",
    "        dipendente[\"dipartimento\"].append(fake.random_element(elements=dipartimento[\"nome\"]))\n",
    "    else:\n",
    "        dipendente[\"dipartimento\"].append(dipartimento[\"nome\"][dipartimenti_fortunati[dipartimento_scelto]])\n",
    "    \n",
    "    dipendente[\"data_assunzione\"].append(fake.date_time_between(start_date = datetime.date(2015, 1, 1)))\n",
    "\n",
    "    nascita = fake.date_time_between(end_date = datetime.date(2003, 1, 1))\n",
    "    dipendente[\"data_di_nascita\"].append(nascita)\n",
    "    eta_dipendenti.append(calculateAge(nascita))\n",
    "\n",
    "    p_laureato = random.randint(0,9)\n",
    "    if p_laureato < 5:\n",
    "        dipendente[\"classe_laurea\"].append(fake.random_element(elements = degrees))\n",
    "        dipendente[\"data_laurea\"].append(fake.date_time_between(start_date = nascita + datetime.timedelta(days = 20*365)))\n",
    "        matricole_laurea.append(dipendente[\"matricola\"][i])\n",
    "\n",
    "        p_dottorato = random.randint(0,9)\n",
    "        if p_dottorato < 2:\n",
    "            dipendente[\"classe_dottorato\"].append(fake.random_element(elements = phds))\n",
    "            dipendente[\"data_dottorato\"].append(fake.date_time_between(start_date = nascita + datetime.timedelta(days = 28*365)))\n",
    "            matricole_dottorato.append(dipendente[\"matricola\"][i])\n",
    "\n",
    "        else:\n",
    "            dipendente[\"classe_dottorato\"].append(None)\n",
    "            dipendente[\"data_dottorato\"].append(None)\n",
    "    else:\n",
    "        dipendente[\"classe_laurea\"].append(None)\n",
    "        dipendente[\"data_laurea\"].append(None)\n",
    "        dipendente[\"classe_dottorato\"].append(None)\n",
    "        dipendente[\"data_dottorato\"].append(None)\n",
    "\n",
    "\n",
    "df_dipendente = pd.DataFrame(dipendente)\n",
    "\n",
    "print(\"Created Dipendente\")\n",
    "\n",
    "df_dipartimento.insert(2, \"numero_afferenti\", 0)\n",
    "\n",
    "#df_dipartimento.set_index(\"nome\", inplace=True)\n",
    "\n",
    "for i in range(len(df_dipendente.index)):\n",
    "    dip = df_dipendente.iloc[[i]][\"dipartimento\"].to_string(index = False)\n",
    "    df_dipartimento.loc[df_dipartimento[\"nome\"] == dip, \"numero_afferenti\"] +=  1"
   ]
  },
  {
   "cell_type": "code",
   "execution_count": 8,
   "metadata": {},
   "outputs": [],
   "source": [
    "#df_dipendente.to_csv(\"dipendente.csv\")\n",
    "#df_dipartimento.to_csv(\"dipartimento.csv\")"
   ]
  },
  {
   "cell_type": "markdown",
   "metadata": {},
   "source": [
    "## Relazione Matrimonio"
   ]
  },
  {
   "cell_type": "code",
   "execution_count": 9,
   "metadata": {},
   "outputs": [
    {
     "name": "stdout",
     "output_type": "stream",
     "text": [
      "Created Matrimonio\n"
     ]
    }
   ],
   "source": [
    "#Matrimonio\n",
    "\n",
    "matrimonio = defaultdict(list)\n",
    "\n",
    "coniugi = fake.random_sample(elements = dipendente[\"matricola\"], length = NUM_MATRIMONI*2)\n",
    "\n",
    "for i in range(NUM_MATRIMONI):\n",
    "    matrimonio[\"coniuge1\"].append(coniugi[2*i])\n",
    "    matrimonio[\"coniuge2\"].append(coniugi[2*i+1])\n",
    "\n",
    "print(\"Created Matrimonio\")\n",
    "\n",
    "df_matrimonio = pd.DataFrame(matrimonio)"
   ]
  },
  {
   "cell_type": "markdown",
   "metadata": {},
   "source": [
    "## Relazione Progetto"
   ]
  },
  {
   "cell_type": "code",
   "execution_count": 10,
   "metadata": {},
   "outputs": [
    {
     "name": "stdout",
     "output_type": "stream",
     "text": [
      "Created Progetto\n"
     ]
    }
   ],
   "source": [
    "#PROGETTO\n",
    "\n",
    "progetto = defaultdict(list)\n",
    "\n",
    "progetto[\"codice_aziendale\"] = fake.random_sample(elements = range(1000000), length = NUM_PROGETTI)\n",
    "progetto[\"budget\"] = fake.random_elements(elements = range(1000, 50000), unique = False, length = NUM_PROGETTI)\n",
    "progetto[\"durata_in_mesi\"] = fake.random_elements(elements = range(6, 48), unique = False, length=NUM_PROGETTI)\n",
    "\n",
    "\n",
    "\n",
    "print(\"Created Progetto\")\n",
    "\n",
    "df_progetto = pd.DataFrame(progetto)"
   ]
  },
  {
   "cell_type": "markdown",
   "metadata": {},
   "source": [
    "## Relazione Competenza"
   ]
  },
  {
   "cell_type": "code",
   "execution_count": 11,
   "metadata": {},
   "outputs": [
    {
     "name": "stdout",
     "output_type": "stream",
     "text": [
      "Created Competenza\n"
     ]
    }
   ],
   "source": [
    "#COMPETENZA\n",
    "\n",
    "competenza = defaultdict(list)\n",
    "\n",
    "\n",
    "f = open(FILE_SKILLS)\n",
    "skills = f.read().splitlines()\n",
    "f.close()\n",
    "\n",
    "competenza[\"nome\"] = skills\n",
    "\n",
    "print(\"Created Competenza\")\n",
    "\n",
    "df_competenza = pd.DataFrame(competenza)\n",
    "df_competenza.drop_duplicates(inplace=True)"
   ]
  },
  {
   "cell_type": "markdown",
   "metadata": {},
   "source": [
    "## Relazione Possiede"
   ]
  },
  {
   "cell_type": "code",
   "execution_count": 12,
   "metadata": {},
   "outputs": [
    {
     "name": "stdout",
     "output_type": "stream",
     "text": [
      "0 elementi in possiede creati\n",
      "10000 elementi in possiede creati\n",
      "20000 elementi in possiede creati\n",
      "30000 elementi in possiede creati\n",
      "40000 elementi in possiede creati\n",
      "50000 elementi in possiede creati\n",
      "60000 elementi in possiede creati\n",
      "70000 elementi in possiede creati\n",
      "80000 elementi in possiede creati\n",
      "90000 elementi in possiede creati\n",
      "Created Possiede\n"
     ]
    }
   ],
   "source": [
    "#POSSIEDE\n",
    "\n",
    "possiede = defaultdict(list)\n",
    "\n",
    "def add_possiede(i):\n",
    "    possiede[\"competenza\"].append(fake.random_element(competenza[\"nome\"])) \n",
    "    p = random.randint(0,9)\n",
    "    if p < 3:\n",
    "        possiede[\"matricola\"].append(fake.random_element(matricole_dottorato))\n",
    "    elif p < 6:\n",
    "        possiede[\"matricola\"].append(fake.random_element(matricole_laurea))\n",
    "    else:\n",
    "        possiede[\"matricola\"].append(fake.random_element(dipendente[\"matricola\"]))\n",
    "    if(i % 10000 == 0):\n",
    "        print(str(i) + \" elementi in possiede creati\")\n",
    "\n",
    "\n",
    "for i in range(NUM_COMPETENZE_DIP*NUM_DIPENDENTI):\n",
    "    add_possiede(i)\n",
    "\n",
    "df_possiede = pd.DataFrame(possiede)\n",
    "df_possiede.drop_duplicates(inplace = True)\n",
    "\n",
    "\n",
    "print(\"Created Possiede\")"
   ]
  },
  {
   "cell_type": "markdown",
   "metadata": {},
   "source": [
    "## Relazione Coinvolge"
   ]
  },
  {
   "cell_type": "code",
   "execution_count": 13,
   "metadata": {},
   "outputs": [
    {
     "name": "stdout",
     "output_type": "stream",
     "text": [
      "Created Coinvolge\n"
     ]
    }
   ],
   "source": [
    "#COINVOLGE\n",
    "\n",
    "coinvolge = defaultdict(list)\n",
    "\n",
    "for i in range(len(progetto[\"codice_aziendale\"])):\n",
    "    p = progetto[\"codice_aziendale\"][i]\n",
    "\n",
    "    #Dipendenza lineare tra budget e num dipendenti del progetto\n",
    "\n",
    "    budget = progetto[\"budget\"][i]\n",
    "    coeff = 2 * NUM_DIP_PROGETTO / 50000\n",
    "    noise = int(np.random.normal(0,0.3)) # La deviazione standard del noise è arbitraria...\n",
    "    #TO DO: aggiungere dipendenza da età\n",
    "    num_dip = int(coeff * budget) + noise\n",
    "    num_dip = num_dip * (num_dip > 0)\n",
    "    matr = fake.random_sample(dipendente[\"matricola\"], length = num_dip)\n",
    "    for i in range(num_dip):\n",
    "        competenze  = df_possiede.loc[df_possiede['matricola'] == matr[i]][\"competenza\"].tolist()\n",
    "        if(competenze != []):\n",
    "            coinvolge[\"matricola\"].append(matr[i])\n",
    "            coinvolge[\"competenza\"].append(fake.random_element(competenze))\n",
    "            coinvolge[\"progetto\"].append(p)\n",
    "        #coinvolge[\"competenza\"].append(fake.random_element(posssiede))\n",
    "        \n",
    "print(\"Created Coinvolge\")  \n",
    "\n",
    "df_coinvolge = pd.DataFrame(coinvolge)"
   ]
  },
  {
   "cell_type": "markdown",
   "metadata": {},
   "source": [
    "## Creazione della base di dati \n",
    "\n",
    "(si suppone esista una base di dati vuota di nome \"progetto_basi\"):"
   ]
  },
  {
   "cell_type": "code",
   "execution_count": 14,
   "metadata": {},
   "outputs": [],
   "source": [
    "engine = create_engine(\"postgresql+psycopg2://postgres:postgres@/progetto_basi\")\n",
    "\n",
    "with engine.connect() as con:\n",
    "    f = open(\"../SQL/data_definition.sql\")\n",
    "    data_definition = text(f.read())\n",
    "    f.close()\n",
    "\n",
    "    f = open(\"../SQL/trigger.sql\")\n",
    "    trigger = text(f.read())\n",
    "    f.close()\n",
    "\n",
    "    f = open(\"../SQL/indexes.sql\")\n",
    "    indici = text(f.read())\n",
    "    f.close()\n",
    "\n",
    "    f = open(\"../SQL/check_qualifica.sql\")\n",
    "    fun = text(f.read())\n",
    "    f.close()\n",
    "    \n",
    "\n",
    "    f = open(\"../SQL/constraints.sql\")\n",
    "    constraints = text(f.read())\n",
    "    f.close()\n",
    "    \n",
    "    con.execute(data_definition)\n",
    "    con.execute(trigger)\n",
    "    con.execute(indici)\n",
    "    con.execute(fun)\n",
    "    con.execute(constraints)\n",
    "    con.commit()"
   ]
  },
  {
   "cell_type": "markdown",
   "metadata": {},
   "source": [
    "## Scrittura dei dati all'interno della base di dati:"
   ]
  },
  {
   "cell_type": "code",
   "execution_count": 15,
   "metadata": {},
   "outputs": [
    {
     "data": {
      "text/plain": [
       "557"
      ]
     },
     "execution_count": 15,
     "metadata": {},
     "output_type": "execute_result"
    }
   ],
   "source": [
    "\n",
    "df_fornitore.to_sql('fornitore', con=engine, index=False, if_exists='append')\n",
    "df_dipartimento.to_sql('dipartimento', con=engine, index=False, if_exists='append')\n",
    "df_fornisce.to_sql('fornisce', con=engine, index=False, if_exists='append')\n",
    "df_dipendente.to_sql('dipendente', con=engine, index=False, if_exists='append')\n",
    "df_matrimonio.to_sql('matrimonio', con=engine, index=False, if_exists='append')\n",
    "df_progetto.to_sql('progetto', con=engine, index=False, if_exists='append')\n",
    "df_competenza.to_sql('competenza', con=engine, index=False, if_exists='append')\n",
    "df_possiede.to_sql('possiede', con=engine, index=False, if_exists='append')\n",
    "df_coinvolge.to_sql('coinvolge', con=engine, index=False, if_exists='append')"
   ]
  }
 ],
 "metadata": {
  "kernelspec": {
   "display_name": "Python 3",
   "language": "python",
   "name": "python3"
  },
  "language_info": {
   "codemirror_mode": {
    "name": "ipython",
    "version": 3
   },
   "file_extension": ".py",
   "mimetype": "text/x-python",
   "name": "python",
   "nbconvert_exporter": "python",
   "pygments_lexer": "ipython3",
   "version": "3.10.12"
  },
  "orig_nbformat": 4
 },
 "nbformat": 4,
 "nbformat_minor": 2
}
